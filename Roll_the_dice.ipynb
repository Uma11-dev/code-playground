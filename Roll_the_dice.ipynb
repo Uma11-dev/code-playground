{
  "nbformat": 4,
  "nbformat_minor": 0,
  "metadata": {
    "colab": {
      "provenance": [],
      "authorship_tag": "ABX9TyOBfO0G3yZq2sqmxJksAiNd",
      "include_colab_link": true
    },
    "kernelspec": {
      "name": "python3",
      "display_name": "Python 3"
    },
    "language_info": {
      "name": "python"
    }
  },
  "cells": [
    {
      "cell_type": "markdown",
      "metadata": {
        "id": "view-in-github",
        "colab_type": "text"
      },
      "source": [
        "<a href=\"https://colab.research.google.com/github/Uma11-dev/code-playground/blob/main/Roll_the_dice.ipynb\" target=\"_parent\"><img src=\"https://colab.research.google.com/assets/colab-badge.svg\" alt=\"Open In Colab\"/></a>"
      ]
    },
    {
      "cell_type": "code",
      "source": [],
      "metadata": {
        "id": "-MlTXBw4vIHb"
      },
      "execution_count": null,
      "outputs": []
    },
    {
      "cell_type": "code",
      "execution_count": 1,
      "metadata": {
        "colab": {
          "base_uri": "https://localhost:8080/"
        },
        "id": "oefw3xM9eClS",
        "outputId": "ea014b8f-2b36-458d-c280-07318a430ff4"
      },
      "outputs": [
        {
          "output_type": "stream",
          "name": "stdout",
          "text": [
            "Would you like to test your luck (yes/no)? no\n",
            "Would you like to play again?  no\n",
            "Okay, maybe next time!\n"
          ]
        }
      ],
      "source": [
        "#dice rolling game\n",
        "#Ask : Would you like to try your luck ?\n",
        "#Ask: How many players\n",
        "#Ask : Name input for each player\n",
        "#Ask : What is target score?\n",
        "#if user yes : generate two numbers\n",
        "#Display numbers\n",
        "#Save scores in respect to players\n",
        "#Display winner and scores\n",
        "#print the numbers\n",
        "#if user says no : terminate the game\n",
        "\n",
        "import random\n",
        "\n",
        "user_input = \"\" # Initialize user_input as empty\n",
        "while user_input not in [\"yes\", \"no\"]:\n",
        "  user_input = input(\"Would you like to test your luck (yes/no)? \").lower()\n",
        "  if user_input not in [\"yes\", \"no\"]:\n",
        "    print(\"Invalid input. Please enter 'yes' or 'no'.\")\n",
        "\n",
        "if user_input == \"yes\":\n",
        "  while True: # Loop until a valid number is entered\n",
        "    try:\n",
        "      num_players_str = input(\"How many players are playing: \")\n",
        "      num_players = int(num_players_str)\n",
        "      if num_players > 0: # Optional: ensure the number of players is positive\n",
        "        break # Exit the loop if input is a valid positive integer\n",
        "      else:\n",
        "        print(\"Please enter a positive number of players.\")\n",
        "    except ValueError:\n",
        "      print(\"Invalid input. Please enter a number.\")\n",
        "\n",
        "  #create an empty list to store players names\n",
        "  players_name = []\n",
        "\n",
        "  for i in range(num_players):\n",
        "    name = \"\" # Initialize name as empty\n",
        "    while not name: # Keep asking until a non-empty name is entered\n",
        "      name = input(f\"Enter name for players {i+1}: \")\n",
        "      if not name:\n",
        "        print(\"Please enter a valid name.\") # Provide feedback to the user\n",
        "    players_name.append(name)  #add the entered name in the list\n",
        "\n",
        "  print(\"Players names:\", players_name) # Display the names\n",
        "\n",
        "  target_score_str = input(\"what is the target score: \") # Get target score as string first\n",
        "  while True: # Loop until a valid target score is entered\n",
        "    try:\n",
        "      target_score = int(target_score_str) # Convert to integer\n",
        "      if target_score > 0: # Optional: ensure target score is positive\n",
        "        break # Exit the loop if input is a valid positive integer\n",
        "      else:\n",
        "        print(\"Please enter a positive target score.\")\n",
        "    except ValueError:\n",
        "      print(\"Invalid input. Please enter a number for the target score.\")\n",
        "    target_score_str = input(\"what is the target score: \") # Ask again if invalid\n",
        "\n",
        "  print(\"Target score is: \", target_score)\n",
        "\n",
        "  #SCORE\n",
        "\n",
        "\n",
        "  scores = {} # Create an empty dictionary to store scores\n",
        "  for player in players_name:\n",
        "    scores[player] = 0 # Initialize scores for each player to 0\n",
        "\n",
        "  #GAMEPLAY\n",
        "\n",
        "  def roll_dice():\n",
        "    die1 = random.randint(1, 6)\n",
        "    die2 = random.randint(1, 6)\n",
        "    return die1, die2\n",
        "\n",
        "  game_over = False\n",
        "  while not game_over:\n",
        "    for player in players_name:\n",
        "      print(f\"\\n{player}'s turn:\")\n",
        "      input(\"Press any key and enter to roll the dice...\")\n",
        "      die1, die2 = roll_dice()\n",
        "      print(f\"  You rolled a Dice 1: {die1}, Dice 2: {die2} for a total of {die1 + die2}\")\n",
        "      scores[player] += die1 + die2\n",
        "      print(f\"  {player}'s current score: {scores[player]}\")\n",
        "\n",
        "      #Displaying the winner\n",
        "\n",
        "      if scores[player] >= target_score:\n",
        "        print(f\"\\nCongratulations, {player} wins with a score of {scores[player]}!\")\n",
        "        game_over = True\n",
        "        break # Exit the inner for loop\n",
        "\n",
        "    if game_over:\n",
        "      break # Exit the outer while loop\n",
        "\n",
        "  print(\"\\nFinal Scores:\")\n",
        "  for player, score in scores.items():\n",
        "    print(f\"{player}: {score}\")\n",
        "\n",
        "user_input =  input(\"Would you like to play again?  \").lower()\n",
        "if user_input == \"no\":\n",
        "  print(\"Okay, maybe next time!\")\n",
        "  exit()\n",
        "\n",
        "\n",
        "\n",
        "elif user_input == \"no\":\n",
        "  print(\"Okay, maybe next time!\")\n",
        "  # You can add exit() here if you want the program to stop\n",
        "  exit()"
      ]
    },
    {
      "cell_type": "code",
      "source": [
        "\n"
      ],
      "metadata": {
        "id": "XQ7Yu0BImnwk"
      },
      "execution_count": null,
      "outputs": []
    }
  ]
}